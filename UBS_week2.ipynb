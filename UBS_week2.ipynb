{
  "nbformat": 4,
  "nbformat_minor": 0,
  "metadata": {
    "colab": {
      "name": "UBS_week2.ipynb",
      "provenance": [],
      "collapsed_sections": [],
      "authorship_tag": "ABX9TyM8Cv6HDosObsubRavdI1aA",
      "include_colab_link": true
    },
    "kernelspec": {
      "name": "python3",
      "display_name": "Python 3"
    }
  },
  "cells": [
    {
      "cell_type": "markdown",
      "metadata": {
        "id": "view-in-github",
        "colab_type": "text"
      },
      "source": [
        "<a href=\"https://colab.research.google.com/github/prithvikannan/ubs-tech-workshops/blob/master/UBS_week2.ipynb\" target=\"_parent\"><img src=\"https://colab.research.google.com/assets/colab-badge.svg\" alt=\"Open In Colab\"/></a>"
      ]
    },
    {
      "cell_type": "markdown",
      "metadata": {
        "id": "Z3BkL6EadPo8",
        "colab_type": "text"
      },
      "source": [
        "# PART 1: API Exploration\n"
      ]
    },
    {
      "cell_type": "markdown",
      "metadata": {
        "id": "-q-zvI_Cn5Ak",
        "colab_type": "text"
      },
      "source": [
        "## Background\n"
      ]
    },
    {
      "cell_type": "markdown",
      "metadata": {
        "id": "SFmnBawPoBQV",
        "colab_type": "text"
      },
      "source": [
        "*What is an API?*\n",
        "\n",
        "API stands for \"application programming interface\". It's basically how any app can communicate to another app. \n",
        "\n",
        "\n",
        "\n",
        "\n"
      ]
    },
    {
      "cell_type": "markdown",
      "metadata": {
        "id": "4jhjArM1-203",
        "colab_type": "text"
      },
      "source": [
        "*Example: Uber app*\n",
        "\n",
        "Think about Uber's app as an example. All of the data about nearby drivers, routing, or pricing is not stored on your phone - it's being stored in Uber's servers (think \"cloud\"). \n",
        "\n",
        "When you select \"shared uber from UCLA Rieber hall to Santa Monica pier\" the app needs to find...\n",
        "\n",
        "\n",
        "*   which drivers are nearby?\n",
        "*   which route should you take?\n",
        "*   which riders can you carpool with?\n",
        "*   how much should it cost?\n",
        "*   etc.\n",
        "\n",
        "These are done via Uber's private APIs, but they may also have some public APIs that you and I can use.\n",
        "\n"
      ]
    },
    {
      "cell_type": "markdown",
      "metadata": {
        "id": "kZ91eAGrpGKj",
        "colab_type": "text"
      },
      "source": [
        "*This seems like stuff for CS majors...why should I care about this?*\n",
        "\n",
        "A lot of data is available online via a \"download to excel\" button but there is so much more out there that is not. Excel downloads are fixed, but APIs are more dynamic and can give the latest data. It's also much easier for companies to publish an API that you can use to get data. \n",
        "\n",
        "We are going to explore Johns Hopkins COVID dataset via an API (found [here](https://covid-api.com/)), rather than an excel download.\n",
        "\n",
        "\n"
      ]
    },
    {
      "cell_type": "markdown",
      "metadata": {
        "id": "C-JgeG1wdHI5",
        "colab_type": "text"
      },
      "source": [
        "## Postman\n"
      ]
    },
    {
      "cell_type": "markdown",
      "metadata": {
        "id": "-L5xnhH6db0q",
        "colab_type": "text"
      },
      "source": [
        "*What is Postman?*\n",
        "\n",
        "[Postman](https://www.postman.com/) is a tool for API testing which lets you save and make queries, export responses, etc, all in an easy to use UI.\n",
        "\n"
      ]
    },
    {
      "cell_type": "markdown",
      "metadata": {
        "id": "Zbr1Vn6GATkA",
        "colab_type": "text"
      },
      "source": [
        "Import [this collection](https://documenter.getpostman.com/view/10724784/SzYXWz3x?version=latest) into Postman. If you don't already have Postman installed, follow the steps for installing on Windows/Mac. "
      ]
    },
    {
      "cell_type": "markdown",
      "metadata": {
        "id": "m7wqvLcDdJhw",
        "colab_type": "text"
      },
      "source": [
        "We are going to use Postman to get familiar with these APIs"
      ]
    },
    {
      "cell_type": "markdown",
      "metadata": {
        "id": "5uZLp7VYdToK",
        "colab_type": "text"
      },
      "source": [
        "# PART 2: Python Code with APIs"
      ]
    },
    {
      "cell_type": "markdown",
      "metadata": {
        "id": "koegvCiSAvP6",
        "colab_type": "text"
      },
      "source": [
        "Now we have seen all of the stuff we can do in Postman with these API - but how would we do this if we had to code it?"
      ]
    },
    {
      "cell_type": "markdown",
      "metadata": {
        "id": "tMQiTpQVnW5o",
        "colab_type": "text"
      },
      "source": [
        "## Imports\n"
      ]
    },
    {
      "cell_type": "markdown",
      "metadata": {
        "id": "L57HuyAncx2u",
        "colab_type": "text"
      },
      "source": [
        "We need to install Twilio's packages. These are not part of Python by default, so we need to use `pip`, which is a python package installer. We cannot use `import` here since `twilio` is not part of python (Twilio is a company that has made its own python package)"
      ]
    },
    {
      "cell_type": "code",
      "metadata": {
        "id": "B-hWMhFTf7AQ",
        "colab_type": "code",
        "colab": {}
      },
      "source": [
        "! pip install twilio"
      ],
      "execution_count": 0,
      "outputs": []
    },
    {
      "cell_type": "markdown",
      "metadata": {
        "id": "MxrbWC6xcwbr",
        "colab_type": "text"
      },
      "source": [
        "The following are necessary libraries for our code and are part of Python\n",
        "\n",
        "`requests` is a library for API calls. You can find more information about requests [here](https://realpython.com/python-requests/)\n",
        "\n",
        "`json` is a library for handing JSON file types. If you want to learn more about JSON files, click [here](https://www.w3schools.com/js/js_json_intro.asp). \n"
      ]
    },
    {
      "cell_type": "code",
      "metadata": {
        "id": "SuoqjW76l1tS",
        "colab_type": "code",
        "colab": {}
      },
      "source": [
        "import requests\n",
        "import json\n",
        "from twilio.rest import Client"
      ],
      "execution_count": 0,
      "outputs": []
    },
    {
      "cell_type": "markdown",
      "metadata": {
        "id": "NHobbQe5oDrO",
        "colab_type": "text"
      },
      "source": [
        "## COVID Data"
      ]
    },
    {
      "cell_type": "markdown",
      "metadata": {
        "id": "xggkfKsHn2nF",
        "colab_type": "text"
      },
      "source": [
        "In the URL, we have the source that we will get data from, as well as parameters we have specified, such as California, USA. We can get this URL from Postman directly or we can write it ourself"
      ]
    },
    {
      "cell_type": "code",
      "metadata": {
        "id": "vs14tA-9gHzr",
        "colab_type": "code",
        "colab": {}
      },
      "source": [
        "url = \"https://covid-api.com/api/reports?date=2020-05-03&q=California&iso=USA&region_name=US&region_province=California\"\n",
        "\n",
        "payload = {}\n",
        "headers= {}\n"
      ],
      "execution_count": 0,
      "outputs": []
    },
    {
      "cell_type": "markdown",
      "metadata": {
        "id": "RSxy-DAJpjX6",
        "colab_type": "text"
      },
      "source": [
        "We use the requests function to fetch data using the above URL. Since the data comes in byte form (not human readable), we must convert it to JSON form."
      ]
    },
    {
      "cell_type": "code",
      "metadata": {
        "id": "1k0CdebtimwZ",
        "colab_type": "code",
        "colab": {}
      },
      "source": [
        "raw_response = requests.request(\"GET\", url, headers=headers, data = payload)\n",
        "\n",
        "print(raw_response)"
      ],
      "execution_count": 0,
      "outputs": []
    },
    {
      "cell_type": "markdown",
      "metadata": {
        "id": "w1aXn3fpJ5Z7",
        "colab_type": "text"
      },
      "source": [
        "This output is not very useful since it's not in a human readable form (it's still in binary). We can use `.json()` to convert to JSON format."
      ]
    },
    {
      "cell_type": "code",
      "metadata": {
        "id": "uo7w3iGjJhW1",
        "colab_type": "code",
        "colab": {}
      },
      "source": [
        "response = raw_response.json()\n",
        "\n",
        "## this line prints response in a hierarchical format for readability\n",
        "print(json.dumps(response, indent=4))"
      ],
      "execution_count": 0,
      "outputs": []
    },
    {
      "cell_type": "markdown",
      "metadata": {
        "id": "T-DwV57MogWo",
        "colab_type": "text"
      },
      "source": [
        "You can see how the JSON fromat is nicely idented to show a hierarchy.\n",
        "\n",
        "We can select parts of the huge response using the \"keys\", which are the tags on the right side of the colon and are in quotes. In this case, we can select all of the counties for which we have data for."
      ]
    },
    {
      "cell_type": "code",
      "metadata": {
        "id": "4sZjdq2Vf_Zq",
        "colab_type": "code",
        "colab": {}
      },
      "source": [
        "all_counties = response['data'][0]['region']['cities']\n",
        "\n",
        "print(json.dumps(all_counties, indent=4))\n"
      ],
      "execution_count": 0,
      "outputs": []
    },
    {
      "cell_type": "markdown",
      "metadata": {
        "id": "XO_c0eRro8Bl",
        "colab_type": "text"
      },
      "source": [
        "Let's choose a county that we want to find information for. I'm going to use Santa Clara. We are also going to make a variable to store the number of cases, which we can set to 0 for now."
      ]
    },
    {
      "cell_type": "code",
      "metadata": {
        "id": "n-GaCo0JgVJq",
        "colab_type": "code",
        "colab": {}
      },
      "source": [
        "# make variables my_county and num_cases here"
      ],
      "execution_count": 0,
      "outputs": []
    },
    {
      "cell_type": "markdown",
      "metadata": {
        "id": "IzDA1aRapP1j",
        "colab_type": "text"
      },
      "source": [
        "Since `all_counties` is an array, we need to loop through it to find the entry with the county we want. Once we reach our county, we want to save the number of cases in that county in `num_cases`."
      ]
    },
    {
      "cell_type": "code",
      "metadata": {
        "id": "xLzbtv4npFYd",
        "colab_type": "code",
        "colab": {}
      },
      "source": [
        "# loop through counties\n",
        "  # if this county is the county you are looking for\n",
        "    # set this county's confirmed cases to num_cases\n",
        "\n",
        "print(num_cases)"
      ],
      "execution_count": 0,
      "outputs": []
    },
    {
      "cell_type": "markdown",
      "metadata": {
        "id": "2nx0ER2JkI_G",
        "colab_type": "text"
      },
      "source": [
        "## Text messaging\n",
        "\n",
        "Now you have to sign up for a Twilio account. You can do this [here](https://www.twilio.com/sms/api). You will need an email and phone number. Using the free account you can only send texts to yourself, but for very cheap (a few cents) you can send texts to anyone.\n",
        "\n",
        "\n",
        "Select \"Get a Trial Number\". This will be the number where you will be able to send text messages from. It will be in the form of +1xxxxxxxxx rather than (xxx)-xxx-xxx as you may be used to. \n",
        "\n",
        "Here's what my account dashboard looks like. Yours should look similar.\n",
        "\n",
        "![image.png](data:image/png;base64,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)\n",
        "\n",
        "From the dashboard, copy the `account_sid`, `auth_token`, and `trial_number` into variables to be used later\n",
        "\n",
        "\n"
      ]
    },
    {
      "cell_type": "code",
      "metadata": {
        "id": "V7BGh-JxlJOn",
        "colab_type": "code",
        "colab": {}
      },
      "source": [
        "account_sid = # your account sid\n",
        "auth_token = # your token\n",
        "trial_number = # your trial number"
      ],
      "execution_count": 0,
      "outputs": []
    },
    {
      "cell_type": "markdown",
      "metadata": {
        "id": "KAHQU9WGkqJI",
        "colab_type": "text"
      },
      "source": [
        "Let's send a test text to yourself. Twilio's website contains some helpful examples - here's one"
      ]
    },
    {
      "cell_type": "markdown",
      "metadata": {
        "id": "P2vGEQkwMgCV",
        "colab_type": "text"
      },
      "source": [
        "First we will creates a \"client\" which we can use to send texts. Since python does not know anything about my Twilio account (I haven't written my username or password in the code) I have to give some other information about my account. In this case, we use the `account_sid` and `auth_token`."
      ]
    },
    {
      "cell_type": "code",
      "metadata": {
        "id": "z2djnggWkTdn",
        "colab_type": "code",
        "colab": {}
      },
      "source": [
        "client = Client(account_sid, auth_token)"
      ],
      "execution_count": 0,
      "outputs": []
    },
    {
      "cell_type": "markdown",
      "metadata": {
        "id": "KaaR2m-rMv5Y",
        "colab_type": "text"
      },
      "source": [
        "Now we can send a message using the *function* `client.messages.create`. This function takes in 3 parameters:\n",
        "\n",
        "*    `body`: the message text we want to send\n",
        "*    `from`: the phone number we would like to send from (if you are using a paid Twilio account you can have multiple numbers). Since we are using the free version, we have to use the `trial_number`\n",
        "*    `to`: the phone number we would like to send to\n",
        "\n",
        "The function *returns* a code to indicate that it really sent the text."
      ]
    },
    {
      "cell_type": "code",
      "metadata": {
        "id": "A1CC_Ne2MwTn",
        "colab_type": "code",
        "colab": {}
      },
      "source": [
        "my_number = # put your phone number her in the format +1xxxxxxxxx\n",
        "test_message = client.messages.create(\n",
        "                              body='Hi there!',\n",
        "                              from_=trial_number,\n",
        "                              to=my_number\n",
        "                          )\n",
        "\n",
        "print(test_message.sid)"
      ],
      "execution_count": 0,
      "outputs": []
    },
    {
      "cell_type": "markdown",
      "metadata": {
        "id": "mjMPTVYHmBZs",
        "colab_type": "text"
      },
      "source": [
        "Did you get the text? It should say \"Sent from you Twilio trial account - Hi There!\". The phone number will be the trial number that Twilio gave you.\n",
        "\n"
      ]
    },
    {
      "cell_type": "markdown",
      "metadata": {
        "id": "ncqzH5ZvoNlj",
        "colab_type": "text"
      },
      "source": [
        "## Putting it all together\n",
        "\n"
      ]
    },
    {
      "cell_type": "markdown",
      "metadata": {
        "id": "8Hh-IIU2OIsd",
        "colab_type": "text"
      },
      "source": [
        "Remember we already have variables `my_county` and `num_cases`"
      ]
    },
    {
      "cell_type": "code",
      "metadata": {
        "id": "LWJykSYDOOwd",
        "colab_type": "code",
        "colab": {}
      },
      "source": [
        "print(my_county)\n",
        "print(num_cases)"
      ],
      "execution_count": 0,
      "outputs": []
    },
    {
      "cell_type": "markdown",
      "metadata": {
        "id": "qIxU334iOUnF",
        "colab_type": "text"
      },
      "source": [
        "Now let's try to compose a message using those variables\n"
      ]
    },
    {
      "cell_type": "code",
      "metadata": {
        "id": "UNyoKsIGlLK7",
        "colab_type": "code",
        "colab": {}
      },
      "source": [
        "my_text = # write a message here\n",
        "print (my_text)"
      ],
      "execution_count": 0,
      "outputs": []
    },
    {
      "cell_type": "markdown",
      "metadata": {
        "id": "sb7hHB5BoTje",
        "colab_type": "text"
      },
      "source": [
        "Let's try to replace the body from the text with the string we just made."
      ]
    },
    {
      "cell_type": "code",
      "metadata": {
        "id": "PV-2n8LlmgXU",
        "colab_type": "code",
        "colab": {}
      },
      "source": [
        "message = client.messages.create(\n",
        "                              body=my_text,\n",
        "                              from_=trial_number,\n",
        "                              to=my_number\n",
        "                          )\n",
        "\n",
        "print(message.sid)"
      ],
      "execution_count": 0,
      "outputs": []
    },
    {
      "cell_type": "markdown",
      "metadata": {
        "id": "dCkl6nqyPTs-",
        "colab_type": "text"
      },
      "source": [
        "And now you should have got a text \"Sent from you Twilio trial account - \" followed by whatever message you wanted to send."
      ]
    }
  ]
}