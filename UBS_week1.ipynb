{
  "nbformat": 4,
  "nbformat_minor": 0,
  "metadata": {
    "colab": {
      "name": "UBS_week1.ipynb",
      "provenance": [],
      "collapsed_sections": [
        "t47PnGDph8_r",
        "uchQsZJamoPc",
        "QpnX0QtBmuY5",
        "FCEonN8Qh_kH"
      ],
      "include_colab_link": true
    },
    "kernelspec": {
      "name": "python3",
      "display_name": "Python 3"
    }
  },
  "cells": [
    {
      "cell_type": "markdown",
      "metadata": {
        "id": "view-in-github",
        "colab_type": "text"
      },
      "source": [
        "<a href=\"https://colab.research.google.com/github/prithvikannan/ubs-tech-workshops/blob/master/UBS_week1.ipynb\" target=\"_parent\"><img src=\"https://colab.research.google.com/assets/colab-badge.svg\" alt=\"Open In Colab\"/></a>"
      ]
    },
    {
      "cell_type": "markdown",
      "metadata": {
        "id": "8PYX5vaUHjWq",
        "colab_type": "text"
      },
      "source": [
        "This notebook was created with significant influence from here: https://github.com/jerry-git/learn-python3"
      ]
    },
    {
      "cell_type": "markdown",
      "metadata": {
        "id": "Y3SX6hv26A3O",
        "colab_type": "text"
      },
      "source": [
        "# Part 1: Data Types & Variables"
      ]
    },
    {
      "cell_type": "markdown",
      "metadata": {
        "id": "Mg8SNb2O_p5f",
        "colab_type": "text"
      },
      "source": [
        "##Basics"
      ]
    },
    {
      "cell_type": "markdown",
      "metadata": {
        "id": "Ev_j29Nb6q9I",
        "colab_type": "text"
      },
      "source": [
        "Data types you should know\n",
        "  - Int/Float\n",
        "  - String\n",
        "  - Boolean\n",
        "\n",
        "Variables: An identifier/name used to store data"
      ]
    },
    {
      "cell_type": "code",
      "metadata": {
        "id": "jyLJlmhhBX9x",
        "colab_type": "code",
        "colab": {}
      },
      "source": [
        "int_example = 1\n",
        "print(type(int_example)) # 1 is an integer\n",
        "\n",
        "float_example = 1.0\n",
        "print(type(float_example)) # 1.0 is a float\n",
        "\n",
        "bool_example = True\n",
        "print(type(bool_example)) # True is a boolean\n",
        "\n",
        "str_example = \"Hello World\"\n",
        "print(type(str_example)) # \"Hello World\" is a string"
      ],
      "execution_count": 0,
      "outputs": []
    },
    {
      "cell_type": "markdown",
      "metadata": {
        "id": "SS3Onyjz7tXq",
        "colab_type": "text"
      },
      "source": [
        "You will often need to convert between types! The most common conversions are int/float->string or string->int/float but you can easily convert between any of the data types listed above "
      ]
    },
    {
      "cell_type": "code",
      "metadata": {
        "id": "bxGh-jBn7EyG",
        "colab_type": "code",
        "colab": {}
      },
      "source": [
        "print(\"Type Before: \", end=\"\")\n",
        "print(type(int_example))\n",
        "int_to_string_example = str(int_example)\n",
        "print(\"Type After: \", end=\"\")\n",
        "print(type(int_to_string_example))\n",
        "\n",
        "str_int_example = \"7\"\n",
        "print(\"Type Before: \", end=\"\")\n",
        "print(type(str_int_example))\n",
        "str_int_example = int(str_int_example)\n",
        "print(\"Type After: \", end=\"\")\n",
        "print(type(str_int_example))\n",
        "\n",
        "str_float_example = \"9.7\"\n",
        "print(\"Type Before: \", end=\"\")\n",
        "print(type(str_float_example))\n",
        "str_float_example = float(str_float_example)\n",
        "print(\"Type After: \", end=\"\")\n",
        "print(type(str_float_example))"
      ],
      "execution_count": 0,
      "outputs": []
    },
    {
      "cell_type": "markdown",
      "metadata": {
        "id": "DEUCv8hQ_s04",
        "colab_type": "text"
      },
      "source": [
        "## Operations"
      ]
    },
    {
      "cell_type": "markdown",
      "metadata": {
        "id": "8HAnyr7K_yjv",
        "colab_type": "text"
      },
      "source": [
        "### Arithmetic Operations"
      ]
    },
    {
      "cell_type": "code",
      "metadata": {
        "id": "-SO6L1WN90Od",
        "colab_type": "code",
        "colab": {}
      },
      "source": [
        "a = 2.4 + 3 # Addition\n",
        "print(\"2.4 + 3 = {}\".format(a))\n",
        "s = 2 - 3.9 # Subtraction\n",
        "print(\"2 - 3.9 = {}\".format(s))\n",
        "m = 2.1 * 3.3 # Multiplication\n",
        "print(\"2.1 * 3.3 = {}\".format(m))\n",
        "d = 28.2 / 3 # Division\n",
        "print(\"28.2 / 3 = {}\".format(d))\n",
        "d = 28.2 // 3 # Floor Division\n",
        "print(\"28.2 // 3 = {}\".format(d))\n",
        "p = 2**3 # Exponentiation\n",
        "print(\"2^3 = {}\".format(p))\n",
        "p = 7 % 3 # Remainder\n",
        "print(\"7 % 3 = {}\".format(p))"
      ],
      "execution_count": 0,
      "outputs": []
    },
    {
      "cell_type": "markdown",
      "metadata": {
        "id": "E1ZIa_jRGDtH",
        "colab_type": "text"
      },
      "source": [
        "Operations follow PEMDAS"
      ]
    },
    {
      "cell_type": "code",
      "metadata": {
        "id": "GKbSLEaHGLmg",
        "colab_type": "code",
        "colab": {}
      },
      "source": [
        "print(1 + 2**2 * 3 / 6) # 1 + 4 * 3 / 6 == 1 + 12 / 6 == 1 + 2\n",
        "print((1 + 2**2) * 3 / 6)"
      ],
      "execution_count": 0,
      "outputs": []
    },
    {
      "cell_type": "markdown",
      "metadata": {
        "id": "qwy9qIrgA6vE",
        "colab_type": "text"
      },
      "source": [
        "### String Operations"
      ]
    },
    {
      "cell_type": "markdown",
      "metadata": {
        "id": "JlRev04jByXN",
        "colab_type": "text"
      },
      "source": [
        "String Concatenation -> `str1 + str2`"
      ]
    },
    {
      "cell_type": "code",
      "metadata": {
        "id": "UrpzqnF4Afp8",
        "colab_type": "code",
        "colab": {}
      },
      "source": [
        "str1 = \"Hello\"\n",
        "str2 = \"World\"\n",
        "str3 = str1 + \" \" + str2\n",
        "print(str3)\n",
        "\n",
        "# print(\"Here is a number: \" + 5) # WRONG: NEED TO CAST 5 TO STRING\n",
        "print(\"Here is a number: \" + str(5)) # CORRECT\n",
        "print(\"Here are multiple numbers: {0}, {1}, {2}\".format(3,4,5))\n",
        "print(\"Here are multiple numbers: {first_num}, {second_num}, {third_num}\".format(second_num=4, third_num=5, first_num=3))"
      ],
      "execution_count": 0,
      "outputs": []
    },
    {
      "cell_type": "markdown",
      "metadata": {
        "id": "VEAvtk0nB446",
        "colab_type": "text"
      },
      "source": [
        "String Splicing (Substrings) -> `str[a:b]` - splice substring from index a(inclusive) to b (exclusive)"
      ]
    },
    {
      "cell_type": "code",
      "metadata": {
        "id": "SREM-1-1BJ68",
        "colab_type": "code",
        "colab": {}
      },
      "source": [
        "str1 = \"Hello World\"\n",
        "print(\"String Length: \" + str(len(str1)))\n",
        "print(str1[0])\n",
        "# print(str1[len(str1)]) # WRONG\n",
        "print(str1[len(str1) - 1]) # CORRECT\n",
        "print(str1[-1]) # CORRECT\n",
        "\n",
        "substr = str1[2:5] # Get the letters 2,3,4\n",
        "print(substr)\n",
        "substr = str1[:5] # Get the first five letters, If left side is blank, assume 0\n",
        "print(substr)\n",
        "substr = str1[5:] # Get the 5th letter onward, If right side is blank assume string length\n",
        "print(substr)\n",
        "substr = str1[-3:] # Get the 3rd to last letter onwards\n",
        "print(substr)"
      ],
      "execution_count": 0,
      "outputs": []
    },
    {
      "cell_type": "markdown",
      "metadata": {
        "id": "dzjKcUjFEjG9",
        "colab_type": "text"
      },
      "source": [
        "See more stuff you can do really easily here - https://docs.python.org/3.8/library/string.html"
      ]
    },
    {
      "cell_type": "markdown",
      "metadata": {
        "id": "LkX2nm_AFeNO",
        "colab_type": "text"
      },
      "source": [
        "### Boolean Operations"
      ]
    },
    {
      "cell_type": "markdown",
      "metadata": {
        "id": "Asu7z8VgGlvK",
        "colab_type": "text"
      },
      "source": [
        "Booleans are used to represent True or False values. This is useful for conditional statements in loops and if-else statements which we will cover later"
      ]
    },
    {
      "cell_type": "code",
      "metadata": {
        "id": "qwQgihq2DXiV",
        "colab_type": "code",
        "colab": {}
      },
      "source": [
        "print('0: {}, 1: {}'.format(bool(0), bool(1)))\n",
        "print('empty list: {}, list with values: {}'.format(bool([]), bool(['woop'])))\n",
        "print('empty dict: {}, dict with values: {}'.format(bool({}), bool({'Python': 'cool'})))"
      ],
      "execution_count": 0,
      "outputs": []
    },
    {
      "cell_type": "code",
      "metadata": {
        "id": "Q1p5LaxHG8cJ",
        "colab_type": "code",
        "colab": {}
      },
      "source": [
        "print('1 == 0: {}'.format(1 == 0))\n",
        "print('1 != 0: {}'.format(1 != 0))\n",
        "print('1 > 0: {}'.format(1 > 0))\n",
        "print('1 > 1: {}'.format(1 > 1))\n",
        "print('1 < 0: {}'.format(1 < 0))\n",
        "print('1 < 1: {}'.format(1 < 1))\n",
        "print('1 >= 0: {}'.format(1 >= 0))\n",
        "print('1 >= 1: {}'.format(1 >= 1))\n",
        "print('1 <= 0: {}'.format(1 <= 0))\n",
        "print('1 <= 1: {}'.format(1 <= 1))\n",
        "print('1 <= 2 <= 3: {}'.format(1 <= 2 <= 3))"
      ],
      "execution_count": 0,
      "outputs": []
    },
    {
      "cell_type": "markdown",
      "metadata": {
        "id": "Gk439OlxH5IU",
        "colab_type": "text"
      },
      "source": [
        "And/Or/Not"
      ]
    },
    {
      "cell_type": "code",
      "metadata": {
        "id": "fOiCNLn-Hv4H",
        "colab_type": "code",
        "colab": {}
      },
      "source": [
        "print(\"'and' requires all conditions to be true\")\n",
        "print(\"True and True: {}\".format(True and True))\n",
        "print(\"True and False: {}\".format(True and False))\n",
        "print(\"False and False: {}\".format(False and False))\n",
        "print(\"True and True and False: {}\".format(True and True and False))\n",
        "print()\n",
        "\n",
        "print(\"'or' requires only one of the conditions to be true\")\n",
        "print(\"True or True: {}\".format(True or True))\n",
        "print(\"True or False: {}\".format(True or False))\n",
        "print(\"False or False: {}\".format(False or False))\n",
        "print(\"False and False and True: {}\".format(False and False and True))\n",
        "print()\n",
        "\n",
        "print(\"'not' negates the value of the boolean\")\n",
        "print('not True: {}'.format(not True))\n",
        "print('not False: {}'.format(not False))\n",
        "print('not (True or False): {}'.format(not (True or False)))\n"
      ],
      "execution_count": 0,
      "outputs": []
    },
    {
      "cell_type": "code",
      "metadata": {
        "id": "5uLJGyriIPnE",
        "colab_type": "code",
        "colab": {}
      },
      "source": [
        ""
      ],
      "execution_count": 0,
      "outputs": []
    },
    {
      "cell_type": "markdown",
      "metadata": {
        "id": "t47PnGDph8_r",
        "colab_type": "text"
      },
      "source": [
        "# Part 2: Control Flow\n"
      ]
    },
    {
      "cell_type": "markdown",
      "metadata": {
        "id": "uchQsZJamoPc",
        "colab_type": "text"
      },
      "source": [
        "## `If-Elif-Else` Statements"
      ]
    },
    {
      "cell_type": "markdown",
      "metadata": {
        "id": "iZ9HuibOlro7",
        "colab_type": "text"
      },
      "source": [
        "`If` statements allow conditional statements"
      ]
    },
    {
      "cell_type": "code",
      "metadata": {
        "id": "PI0BDYith8Cw",
        "colab_type": "code",
        "colab": {}
      },
      "source": [
        "statement = True\n",
        "if statement:\n",
        "    print('statement is True')\n",
        "\n",
        "statement = False    \n",
        "if not statement:\n",
        "    print('statement is not True')"
      ],
      "execution_count": 0,
      "outputs": []
    },
    {
      "cell_type": "code",
      "metadata": {
        "id": "hJhJcMk3jVFd",
        "colab_type": "code",
        "colab": {}
      },
      "source": [
        "empty_list = []\n",
        "# With if and elif, conversion to `bool` is implicit\n",
        "if empty_list:\n",
        "  print('empty list will not evaluate to True')  # this won't be executed\n",
        "\n",
        "if not empty:\n",
        "  print('empty list will evaluate to False')  # this will be executed"
      ],
      "execution_count": 0,
      "outputs": []
    },
    {
      "cell_type": "code",
      "metadata": {
        "id": "vopYjiESlUbL",
        "colab_type": "code",
        "colab": {}
      },
      "source": [
        "val = 3\n",
        "if (0 <= val < 1) or (val == 3):\n",
        "    print('Value is positive and less than one or value is three')"
      ],
      "execution_count": 0,
      "outputs": []
    },
    {
      "cell_type": "markdown",
      "metadata": {
        "id": "34CtE0WKljPp",
        "colab_type": "text"
      },
      "source": [
        "`If-Else` statements allow implicit handling of the alternate case"
      ]
    },
    {
      "cell_type": "code",
      "metadata": {
        "id": "c-YXIS-WlZlb",
        "colab_type": "code",
        "colab": {}
      },
      "source": [
        "my_lst = []\n",
        "if my_lst:\n",
        "    print('there is something in my list')\n",
        "else:\n",
        "    print('my list is empty')"
      ],
      "execution_count": 0,
      "outputs": []
    },
    {
      "cell_type": "markdown",
      "metadata": {
        "id": "2elxlfH7l3uB",
        "colab_type": "text"
      },
      "source": [
        "`If-Elif-Else` allows for multiple specific conditions to be handled"
      ]
    },
    {
      "cell_type": "code",
      "metadata": {
        "id": "9JMY9ylxl81a",
        "colab_type": "code",
        "colab": {}
      },
      "source": [
        "val = 88\n",
        "if val >= 100:\n",
        "    print('value is equal or greater than 100')\n",
        "elif val > 10:\n",
        "    print('value is greater than 10 but less than 100')\n",
        "else:\n",
        "    print('value is equal or less than 10')"
      ],
      "execution_count": 0,
      "outputs": []
    },
    {
      "cell_type": "code",
      "metadata": {
        "id": "v5YxIvNnl9oL",
        "colab_type": "code",
        "colab": {}
      },
      "source": [
        "greeting = 'Hello fellow Pythonista!'\n",
        "language = 'Italian'\n",
        "\n",
        "if language == 'Swedish':\n",
        "    greeting = 'Hejsan!'\n",
        "elif language == 'Finnish':\n",
        "    greeting = 'Latua perkele!'\n",
        "elif language == 'Spanish':\n",
        "    greeting = 'Hola!'\n",
        "elif language == 'German':\n",
        "    greeting = 'Guten Tag!'\n",
        "    \n",
        "print(greeting)"
      ],
      "execution_count": 0,
      "outputs": []
    },
    {
      "cell_type": "markdown",
      "metadata": {
        "id": "dGI9qVFJmL-i",
        "colab_type": "text"
      },
      "source": [
        "If I have multiple condiditons that are true, python will evaluate the first one. If you want to evaluate both, you have to write it as a separate `if` statement"
      ]
    },
    {
      "cell_type": "code",
      "metadata": {
        "id": "B5Mb0TU_mQv-",
        "colab_type": "code",
        "colab": {}
      },
      "source": [
        "val = 110\n",
        "\n",
        "if val > 10:\n",
        "    print('value is greater than 10')\n",
        "elif val >= 100:\n",
        "    print('value is equal or greater than 100')\n",
        "else:\n",
        "    print('value is equal or less than 10')"
      ],
      "execution_count": 0,
      "outputs": []
    },
    {
      "cell_type": "code",
      "metadata": {
        "id": "jShtq8KimbJr",
        "colab_type": "code",
        "colab": {}
      },
      "source": [
        "val = 110\n",
        "if val > 10:\n",
        "    print('value is greater than 10')\n",
        "if val >= 100:\n",
        "    print('value is equal or greater than 100')"
      ],
      "execution_count": 0,
      "outputs": []
    },
    {
      "cell_type": "markdown",
      "metadata": {
        "id": "QpnX0QtBmuY5",
        "colab_type": "text"
      },
      "source": [
        "## Loops"
      ]
    },
    {
      "cell_type": "markdown",
      "metadata": {
        "id": "YblQemXkm2MQ",
        "colab_type": "text"
      },
      "source": [
        "Loops allow you to repeatedly run statements without manually retyping code."
      ]
    },
    {
      "cell_type": "markdown",
      "metadata": {
        "id": "Qn8qzClqnFzR",
        "colab_type": "text"
      },
      "source": [
        "`while` loops are used to run statements as long as the condiditon specified evaluates to True"
      ]
    },
    {
      "cell_type": "code",
      "metadata": {
        "id": "YThW_cC0m1By",
        "colab_type": "code",
        "colab": {}
      },
      "source": [
        "i = 0\n",
        "while i < 10:\n",
        "  print(i)\n",
        "  i += 1"
      ],
      "execution_count": 0,
      "outputs": []
    },
    {
      "cell_type": "code",
      "metadata": {
        "id": "z85CgiFgndsN",
        "colab_type": "code",
        "colab": {}
      },
      "source": [
        "i = 0\n",
        "j = 20\n",
        "\n",
        "while (i < 10) and (j > 10):\n",
        "  print(i,j)\n",
        "  i += 2\n",
        "  j -= 1"
      ],
      "execution_count": 0,
      "outputs": []
    },
    {
      "cell_type": "markdown",
      "metadata": {
        "id": "dTESHXKZpkAs",
        "colab_type": "text"
      },
      "source": [
        "`for` loops are typically used to iterate over a collection of values (e.g. list, dictionary)\n"
      ]
    },
    {
      "cell_type": "code",
      "metadata": {
        "id": "lhMaxVYipYpk",
        "colab_type": "code",
        "colab": {}
      },
      "source": [
        "for i in range(0, 5):\n",
        "  print(i)"
      ],
      "execution_count": 0,
      "outputs": []
    },
    {
      "cell_type": "code",
      "metadata": {
        "id": "F3af7P5Hp7uQ",
        "colab_type": "code",
        "colab": {}
      },
      "source": [
        "for i in range(5):\n",
        "  print(i)"
      ],
      "execution_count": 0,
      "outputs": []
    },
    {
      "cell_type": "code",
      "metadata": {
        "id": "BjevtGgap_DP",
        "colab_type": "code",
        "colab": {}
      },
      "source": [
        "for i in [1,3,5,7,9]:\n",
        "  print(i)"
      ],
      "execution_count": 0,
      "outputs": []
    },
    {
      "cell_type": "markdown",
      "metadata": {
        "id": "n35EXNeyqvU9",
        "colab_type": "text"
      },
      "source": [
        "The keyword `continue` allows you to skip the current iteration of the loop. The keyword `break` allows you to stop executing the loop"
      ]
    },
    {
      "cell_type": "code",
      "metadata": {
        "id": "xoVKv7c2queV",
        "colab_type": "code",
        "colab": {}
      },
      "source": [
        "for i in range(5):\n",
        "  if i == 2:\n",
        "    continue  # Will not print 2\n",
        "  print(i)"
      ],
      "execution_count": 0,
      "outputs": []
    },
    {
      "cell_type": "code",
      "metadata": {
        "id": "fbWnSUygrPAh",
        "colab_type": "code",
        "colab": {}
      },
      "source": [
        "for i in range(5):\n",
        "  if i == 2:\n",
        "    break   # Will stop running once i becomes 2\n",
        "  print(i)"
      ],
      "execution_count": 0,
      "outputs": []
    },
    {
      "cell_type": "markdown",
      "metadata": {
        "id": "laQH11P0h6Aa",
        "colab_type": "text"
      },
      "source": [
        "# Part 3: Data Structures"
      ]
    },
    {
      "cell_type": "markdown",
      "metadata": {
        "id": "l-_GsaWfjv5J",
        "colab_type": "text"
      },
      "source": [
        "### Lists \n",
        "\n",
        "Lists are collections of some data, separated by a comma and enclosed in square brackets"
      ]
    },
    {
      "cell_type": "code",
      "metadata": {
        "id": "b-HR2nbgh_Em",
        "colab_type": "code",
        "colab": {}
      },
      "source": [
        "list_of_ints = [1, 2, 6, 7]\n",
        "list_of_misc = [0.2, 5, 'Python', 'is', 'still fun', '!']\n",
        "print('lengths: {} and {}'.format(len(list_of_ints), len(list_of_misc)))"
      ],
      "execution_count": 0,
      "outputs": []
    },
    {
      "cell_type": "markdown",
      "metadata": {
        "id": "3_hYsfAdkNL_",
        "colab_type": "text"
      },
      "source": [
        "Lists can be nested in one another to form a grid/matrix\n"
      ]
    },
    {
      "cell_type": "code",
      "metadata": {
        "id": "J_QlgCOdkOlI",
        "colab_type": "code",
        "colab": {}
      },
      "source": [
        "coordinates = [[12.0, 13.3], \n",
        "               [0.6, 18.0], \n",
        "               [88.0, 1.1]]  # two dimensional\n",
        "print(coordinates)\n",
        "print('first coordinate: {}'.format(coordinates[0]))\n",
        "print('second element of first coordinate: {}'.format(coordinates[0][1]))"
      ],
      "execution_count": 0,
      "outputs": []
    },
    {
      "cell_type": "markdown",
      "metadata": {
        "id": "OZOJEtmFkbZ_",
        "colab_type": "text"
      },
      "source": [
        "You can do various operations on lists such as append, remove, extend"
      ]
    },
    {
      "cell_type": "code",
      "metadata": {
        "id": "fZf9AfpDkinc",
        "colab_type": "code",
        "colab": {}
      },
      "source": [
        "# append\n",
        "\n",
        "my_list = [1]\n",
        "my_list.append('ham')\n",
        "print(my_list)"
      ],
      "execution_count": 0,
      "outputs": []
    },
    {
      "cell_type": "code",
      "metadata": {
        "id": "QOiMooLxkpEG",
        "colab_type": "code",
        "colab": {}
      },
      "source": [
        "# remove\n",
        "\n",
        "my_list = ['Python', 'is', 'sometimes', 'fun']\n",
        "my_list.remove('sometimes')\n",
        "print(my_list)"
      ],
      "execution_count": 0,
      "outputs": []
    },
    {
      "cell_type": "code",
      "metadata": {
        "id": "l70c3hKOLFXi",
        "colab_type": "code",
        "colab": {}
      },
      "source": [
        "# extend\n",
        "\n",
        "my_list_1 = [1,2,3]\n",
        "my_list_2 = [4,5,6]\n",
        "my_list_1.extend(my_list_2)\n",
        "print(my_list_1)"
      ],
      "execution_count": 0,
      "outputs": []
    },
    {
      "cell_type": "markdown",
      "metadata": {
        "id": "9440AD3tlL9e",
        "colab_type": "text"
      },
      "source": [
        "You can also do more advanced things like sorting or checking if something is contained"
      ]
    },
    {
      "cell_type": "code",
      "metadata": {
        "id": "HKBzoOEHlSqi",
        "colab_type": "code",
        "colab": {}
      },
      "source": [
        "# sort\n",
        "\n",
        "numbers = [8, 1, 6, 5, 10]\n",
        "sorted_numbers = sorted(numbers)\n",
        "\n",
        "print(sorted([1.0,123]))\n",
        "print('numbers: {}, sorted: {}'.format(numbers, sorted_numbers))"
      ],
      "execution_count": 0,
      "outputs": []
    },
    {
      "cell_type": "code",
      "metadata": {
        "id": "HDlOk2ArlYXc",
        "colab_type": "code",
        "colab": {}
      },
      "source": [
        "# membership\n",
        "\n",
        "languages = ['Java', 'C++', 'Go', 'Python', 'JavaScript']\n",
        "languages.insert(1, \"new\")\n",
        "print(languages)\n",
        "print(languages[1])\n",
        "if 'abc' in languages:\n",
        "    print('Python is there!')\n",
        "print(\"hello\")"
      ],
      "execution_count": 0,
      "outputs": []
    },
    {
      "cell_type": "markdown",
      "metadata": {
        "id": "CZW96QBWli7E",
        "colab_type": "text"
      },
      "source": [
        "### Dictionaries\n",
        "\n",
        "Dictionaries are collections of key-value pairs. They are similar to lists, but have some advantages"
      ]
    },
    {
      "cell_type": "code",
      "metadata": {
        "id": "v3OziQ-mlmot",
        "colab_type": "code",
        "colab": {}
      },
      "source": [
        "# making a dictionary\n",
        "\n",
        "dict1 = {'value1': 1.6, 'value2': 10, 'name': 'John Doe'}\n",
        "dict2 = dict(value1=1.6, value2=10, name='John Doe')\n",
        "\n",
        "dict3 = dict1\n",
        "print(dict1)\n",
        "print(dict2)\n",
        "print(dict3)\n",
        "print(dict1['name'])\n",
        "print('equal: {}'.format(dict1 == dict2))\n",
        "print('length: {}'.format(len(dict1)))"
      ],
      "execution_count": 0,
      "outputs": []
    },
    {
      "cell_type": "markdown",
      "metadata": {
        "id": "wgk-OoVPmE7R",
        "colab_type": "text"
      },
      "source": [
        "You can get all of the dictionary's keys, values, or items"
      ]
    },
    {
      "cell_type": "code",
      "metadata": {
        "id": "RuQIyvrnmInQ",
        "colab_type": "code",
        "colab": {}
      },
      "source": [
        "print('keys: {}'.format(dict1.keys()))\n",
        "print('values: {}'.format(dict1.values()))\n",
        "print('items: {}'.format(dict1.items()))"
      ],
      "execution_count": 0,
      "outputs": []
    },
    {
      "cell_type": "markdown",
      "metadata": {
        "id": "Y0sEKnm_mNJo",
        "colab_type": "text"
      },
      "source": [
        "Like with lists, you can add, delete, or update elements "
      ]
    },
    {
      "cell_type": "code",
      "metadata": {
        "id": "JK4bz8DimUNf",
        "colab_type": "code",
        "colab": {}
      },
      "source": [
        "# add\n",
        "\n",
        "my_dict = {}\n",
        "my_dict['key1'] = 'value1'\n",
        "my_dict['key2'] = 99\n",
        "print(my_dict)\n",
        "print('value of key1: {}'.format(my_dict['key1']))"
      ],
      "execution_count": 0,
      "outputs": []
    },
    {
      "cell_type": "code",
      "metadata": {
        "id": "yaqdXpxMmVkF",
        "colab_type": "code",
        "colab": {}
      },
      "source": [
        "# delete\n",
        "del my_dict['key2']\n",
        "print(my_dict)\n",
        "\n",
        "# trying to delete a key that is not in the dictionary will give an error"
      ],
      "execution_count": 0,
      "outputs": []
    },
    {
      "cell_type": "code",
      "metadata": {
        "id": "RbittOhgmW4l",
        "colab_type": "code",
        "colab": {}
      },
      "source": [
        "# update\n",
        "\n",
        "my_dict['key1'] = 'new value'  # overriding existing value\n",
        "print(my_dict)\n",
        "print('value of key1: {}'.format(my_dict['key1']))"
      ],
      "execution_count": 0,
      "outputs": []
    },
    {
      "cell_type": "markdown",
      "metadata": {
        "id": "GkBloQhhnOLi",
        "colab_type": "text"
      },
      "source": [
        "You can access specific values in the dictionary by giving a key. This is very fast for the computer, which is a big advantage of using dictionaries instead of lists"
      ]
    },
    {
      "cell_type": "code",
      "metadata": {
        "id": "s8jVCzCjnZwe",
        "colab_type": "code",
        "colab": {}
      },
      "source": [
        "my_dict = {'a': 1, 'b': 2, 'c': 3}\n",
        "a = my_dict['d']\n",
        "print('a: {}'.format(a))\n"
      ],
      "execution_count": 0,
      "outputs": []
    },
    {
      "cell_type": "markdown",
      "metadata": {
        "id": "VNPH1PlgnZAB",
        "colab_type": "text"
      },
      "source": [
        "### Defaultdict"
      ]
    },
    {
      "cell_type": "markdown",
      "metadata": {
        "id": "YRMVOX5foqS4",
        "colab_type": "text"
      },
      "source": [
        "Defaultdict is like the standard dict, but returns a default value if the key doesn't exist. Here's what happens if you ask for a key that doesn't exist in a normal dict."
      ]
    },
    {
      "cell_type": "code",
      "metadata": {
        "id": "1EArdRx2sFaB",
        "colab_type": "code",
        "colab": {}
      },
      "source": [
        "# normal dict - asking for a key that doesn't exist\n",
        "\n",
        "my_dict = {}\n",
        "my_dict['a']=1\n",
        "my_dict['b']=2\n",
        "my_dict['c']=3\n",
        "\n",
        "print('d: {}'.format(my_dict['d']))"
      ],
      "execution_count": 0,
      "outputs": []
    },
    {
      "cell_type": "markdown",
      "metadata": {
        "id": "KvAR1VOlsosg",
        "colab_type": "text"
      },
      "source": [
        "We can solve this by setting a default value in a defaultdict. But first, we have to import defaultdict from the collections library"
      ]
    },
    {
      "cell_type": "code",
      "metadata": {
        "id": "m7STfN61ssA2",
        "colab_type": "code",
        "colab": {}
      },
      "source": [
        "from collections import defaultdict "
      ],
      "execution_count": 0,
      "outputs": []
    },
    {
      "cell_type": "code",
      "metadata": {
        "id": "aIQOgM_lsadG",
        "colab_type": "code",
        "colab": {}
      },
      "source": [
        "# defaultdict - asking for a key that doesn't exist\n",
        "\n",
        "def def_value(): \n",
        "    return \"the value is not present\"\n",
        "      \n",
        "# Defining the dict \n",
        "d = defaultdict(def_value) \n",
        "d[\"a\"] = 1\n",
        "d[\"b\"] = 2\n",
        "  \n",
        "print(d[\"a\"]) \n",
        "print(d[\"b\"]) \n",
        "print(d[\"c\"])"
      ],
      "execution_count": 0,
      "outputs": []
    },
    {
      "cell_type": "markdown",
      "metadata": {
        "id": "pODg76C9u7Vh",
        "colab_type": "text"
      },
      "source": [
        "Counting words is a common use case"
      ]
    },
    {
      "cell_type": "code",
      "metadata": {
        "id": "KlyySQLsuRD3",
        "colab_type": "code",
        "colab": {}
      },
      "source": [
        "sentence = \"\"\"bands which have connected them with another, and to assume among the powers of the earth, \n",
        "the separate and equal station to which the Laws of Nature and of Nature's God entitle them, a decent respect \n",
        "to the opinions of mankind requires that they should declare the causes which impel them to the separation. \n",
        "We hold these truths to be self-evident, that all men are created equal, that they are endowed by their Creator \n",
        "with certain unalienable Rights, that among these are Life, Liberty and the pursuit of Happiness. That to \n",
        "secure these rights, Governments are instituted among Men, deriving their just powers from the consent of the \n",
        "governed, That whenever any Form of Government becomes destructive of these ends, it is the Right of the People \n",
        "to alter or to abolish it, and to institute new Government, laying its foundation on such principles and organizing \n",
        "its powers in such form, as to them shall seem most likely to effect their Safety and Happiness.\"\"\"\n",
        "\n",
        "my_default_dict = defaultdict(int)\n",
        "words_in_sentence = sentence.split(\" \")\n",
        "print(len(words_in_sentence))\n",
        "for w in words_in_sentence:\n",
        "  my_default_dict[w] += 1\n",
        "print(my_default_dict)"
      ],
      "execution_count": 0,
      "outputs": []
    },
    {
      "cell_type": "markdown",
      "metadata": {
        "id": "FCEonN8Qh_kH",
        "colab_type": "text"
      },
      "source": [
        "# Part 4: Functions"
      ]
    },
    {
      "cell_type": "markdown",
      "metadata": {
        "id": "idFjkzVJliJG",
        "colab_type": "text"
      },
      "source": [
        "Functions are lines of code that are grouped together and can be run by calling the name of the function. They usually accomplish a specific task such as \"capitalize the first letter of a word\"."
      ]
    },
    {
      "cell_type": "markdown",
      "metadata": {
        "id": "Ht8018fgpqVR",
        "colab_type": "text"
      },
      "source": [
        "This is the most basic function"
      ]
    },
    {
      "cell_type": "code",
      "metadata": {
        "id": "Cx_vjHxLprv9",
        "colab_type": "code",
        "colab": {}
      },
      "source": [
        "def my_first_function():\n",
        "    print('Hello world!')\n",
        "    \n",
        "my_first_function()  # Calling a function"
      ],
      "execution_count": 0,
      "outputs": []
    },
    {
      "cell_type": "markdown",
      "metadata": {
        "id": "mJ2YRhDipwTO",
        "colab_type": "text"
      },
      "source": [
        "Functions take inputs, which are called \"arguments\""
      ]
    },
    {
      "cell_type": "code",
      "metadata": {
        "id": "g2d2tEO0p1yi",
        "colab_type": "code",
        "colab": {}
      },
      "source": [
        "def greet_us(name1, name2):\n",
        "    print('Hello {} and {}!'.format(name1, name2))\n",
        "\n",
        "greet_us('John Doe', 'Superman')"
      ],
      "execution_count": 0,
      "outputs": []
    },
    {
      "cell_type": "markdown",
      "metadata": {
        "id": "dzPML75gp_6l",
        "colab_type": "text"
      },
      "source": [
        "Functions can also return data"
      ]
    },
    {
      "cell_type": "code",
      "metadata": {
        "id": "r2xBwtzpp9Py",
        "colab_type": "code",
        "colab": {}
      },
      "source": [
        "def add_numbers(num1, num2):\n",
        "    return num1+num2\n",
        "\n",
        "sum = add_numbers(3,4)\n",
        "print(sum)"
      ],
      "execution_count": 0,
      "outputs": []
    },
    {
      "cell_type": "markdown",
      "metadata": {
        "id": "paD67-GVx19P",
        "colab_type": "text"
      },
      "source": [
        "If you pass an integer, float, string, or boolean, it will be passed by value. This means if I change it inside the function, it **will not change** outside the function."
      ]
    },
    {
      "cell_type": "code",
      "metadata": {
        "id": "HrU9GBHTiBTG",
        "colab_type": "code",
        "colab": {}
      },
      "source": [
        "def increment(x):\n",
        "  x += 1\n",
        "\n",
        "a = 5\n",
        "print(a) # Prints 5\n",
        "increment(a)\n",
        "print(a) # Still prints 5"
      ],
      "execution_count": 0,
      "outputs": []
    },
    {
      "cell_type": "markdown",
      "metadata": {
        "id": "uVFs0kamw2XV",
        "colab_type": "text"
      },
      "source": [
        "If you pass anything that is not an integer, float, string, or boolean, it will be passed by reference. This means if I change it inside the function, it **will change** outside the function as well."
      ]
    },
    {
      "cell_type": "code",
      "metadata": {
        "id": "h7oef-jOxtP2",
        "colab_type": "code",
        "colab": {}
      },
      "source": [
        "def append_one(x):\n",
        "  x.append(1)\n",
        "\n",
        "a = [5,4,3,2]\n",
        "\n",
        "print(a) # Prints [5,4,3,2]\n",
        "append_one(a)\n",
        "print(a) # Prints [5,4,3,2,1]"
      ],
      "execution_count": 0,
      "outputs": []
    },
    {
      "cell_type": "markdown",
      "metadata": {
        "id": "0dZl5OKlM0xQ",
        "colab_type": "text"
      },
      "source": [
        "The above issue also occurs if you set ojects that are not integers, floats, strings, or booleans equal to each other."
      ]
    },
    {
      "cell_type": "code",
      "metadata": {
        "id": "Ey-naELfM9T5",
        "colab_type": "code",
        "colab": {}
      },
      "source": [
        "a = [1,2,3]\n",
        "b = a # a and b now reference the same list\n",
        "print(\"ID of a: {0}, ID of b: {1}\".format(id(a), id(b)))\n",
        "b.append(4) # Modifies a\n",
        "print(a)\n",
        "print(b)"
      ],
      "execution_count": 0,
      "outputs": []
    },
    {
      "cell_type": "markdown",
      "metadata": {
        "id": "sZZ01bvFNeTr",
        "colab_type": "text"
      },
      "source": [
        "If you want them to be different lists, you must use the `copy()` function"
      ]
    },
    {
      "cell_type": "code",
      "metadata": {
        "id": "3600k5jNO40M",
        "colab_type": "code",
        "colab": {}
      },
      "source": [
        "from copy import copy, deepcopy"
      ],
      "execution_count": 0,
      "outputs": []
    },
    {
      "cell_type": "code",
      "metadata": {
        "id": "PQTk3pyJNncO",
        "colab_type": "code",
        "colab": {}
      },
      "source": [
        "a = [1,2,3]\n",
        "b = copy(a) # a and b now reference different lists\n",
        "print(\"ID of a: {0}, ID of b: {1}\".format(id(a), id(b)))\n",
        "b.append(4) # Only modifies b\n",
        "print(a)\n",
        "print(b)"
      ],
      "execution_count": 0,
      "outputs": []
    },
    {
      "cell_type": "markdown",
      "metadata": {
        "id": "Vb21jhk7PTvu",
        "colab_type": "text"
      },
      "source": [
        "If the elements in the list are not integers, floats, strings, or booleans, you must use the `deepcopy()` function"
      ]
    },
    {
      "cell_type": "code",
      "metadata": {
        "id": "YjQZLqMWOExF",
        "colab_type": "code",
        "colab": {}
      },
      "source": [
        "a = [[1,2,3],\n",
        "     [4,5,6],\n",
        "     [7,8,9]]\n",
        "b = copy(a) # a and b now reference different lists, but the lists inside them reference the same lists\n",
        "print(\"ID of a: {0}, ID of b: {1}\".format(id(a), id(b)))\n",
        "print(\"ID of a[0]: {0}, ID of b[0]: {1}\".format(id(a[0]), id(b[0])))\n",
        "b[0].append(0) # Modifies a[0] and b[0]\n",
        "print(a)\n",
        "print(b)"
      ],
      "execution_count": 0,
      "outputs": []
    },
    {
      "cell_type": "code",
      "metadata": {
        "id": "C9O4hmy2Og1t",
        "colab_type": "code",
        "colab": {}
      },
      "source": [
        "a = [[1,2,3],\n",
        "     [4,5,6],\n",
        "     [7,8,9]]\n",
        "b = deepcopy(a) # a and b now reference different lists, and the lists inside them reference different lists\n",
        "print(\"ID of a: {0}, ID of b: {1}\".format(id(a), id(b)))\n",
        "print(\"ID of a[0]: {0}, ID of b[0]: {1}\".format(id(a[0]), id(b[0])))\n",
        "b[0].append(0) # Only modifies b[0]\n",
        "print(a)\n",
        "print(b)"
      ],
      "execution_count": 0,
      "outputs": []
    },
    {
      "cell_type": "markdown",
      "metadata": {
        "colab_type": "text",
        "id": "do0giP7ywjPn"
      },
      "source": [
        "# Part 5: Exercises"
      ]
    },
    {
      "cell_type": "markdown",
      "metadata": {
        "id": "-JPhyYIYxtI0",
        "colab_type": "text"
      },
      "source": [
        "Fill missing pieces (`____`) of the following code such that prints make sense.\n",
        "\n"
      ]
    },
    {
      "cell_type": "code",
      "metadata": {
        "id": "oA2N7t5VzRv6",
        "colab_type": "code",
        "colab": {}
      },
      "source": [
        "name = 'John Doe'\n",
        "if len(name) > 20:\n",
        "    print('Name \"{}\" is more than 20 chars long'.format(name))\n",
        "    length_description = 'long'\n",
        "elif len(name) > 15:\n",
        "    print('Name \"{}\" is more than 15 chars long'.format(name))\n",
        "    length_description = 'semi long'\n",
        "elif len(name) > 10:\n",
        "    print('Name \"{}\" is more than 10 chars long'.format(name))\n",
        "    length_description = 'semi long'\n",
        "elif len(name) >= 8:\n",
        "    print('Name \"{}\" is 8, 9 or 10 chars long'.format(name))\n",
        "    length_description = 'semi short'\n",
        "else:\n",
        "    print('Name \"{}\" is a short name'.format(name))\n",
        "    length_description = 'short'\n",
        "assert length_description == 'semi short'"
      ],
      "execution_count": 0,
      "outputs": []
    },
    {
      "cell_type": "markdown",
      "metadata": {
        "id": "xRagPi8qwRXi",
        "colab_type": "text"
      },
      "source": [
        "Make a new list using the list `original` which contains `['I', 'am', 'learning', 'lists', 'in', 'Python']`, without changing `original`\n",
        "\n",
        "\n",
        "\n"
      ]
    },
    {
      "cell_type": "code",
      "metadata": {
        "colab_type": "code",
        "id": "xTnu3R6RwjP0",
        "colab": {}
      },
      "source": [
        "original = ['I', 'am', 'learning', 'hacking', 'in']\n",
        "\n",
        "# Your implementation here\n",
        "modified = original.copy()\n",
        "modified.append('Python')\n",
        "modified[3] = 'lists'\n",
        "print(modified)\n",
        "assert original == ['I', 'am', 'learning', 'hacking', 'in']\n",
        "assert modified == ['I', 'am', 'learning', 'lists', 'in', 'Python']"
      ],
      "execution_count": 0,
      "outputs": []
    },
    {
      "cell_type": "markdown",
      "metadata": {
        "id": "OqYnuzcNxQz5",
        "colab_type": "text"
      },
      "source": [
        "Create a dictionary by using all the given variables."
      ]
    },
    {
      "cell_type": "code",
      "metadata": {
        "id": "yMQ69n4MxFXM",
        "colab_type": "code",
        "colab": {}
      },
      "source": [
        "first_name = 'John'\n",
        "last_name = 'Doe'\n",
        "favorite_hobby = 'Python'\n",
        "sports_hobby = 'gym'\n",
        "age = 82\n",
        "\n",
        "# Your implementation\n",
        "my_dict = {\n",
        "    'name': first_name + ' ' + last_name,\n",
        "    'age': age,\n",
        "    'hobbies': [favorite_hobby, sports_hobby] \n",
        "}\n",
        "\n",
        "\n",
        "assert my_dict == {\n",
        "        'name': 'John Doe',\n",
        "        'age': 82,\n",
        "        'hobbies': ['Python', 'gym']\n",
        "    }"
      ],
      "execution_count": 0,
      "outputs": []
    },
    {
      "cell_type": "markdown",
      "metadata": {
        "id": "GHoLwfbgxzkp",
        "colab_type": "text"
      },
      "source": [
        "Fill `____` pieces of the `count_even_numbers` implemention in order to pass the assertions. You can assume that `numbers` argument is a list of integers."
      ]
    },
    {
      "cell_type": "code",
      "metadata": {
        "id": "KQttWYdsx4C8",
        "colab_type": "code",
        "colab": {}
      },
      "source": [
        "# Your implementation\n",
        "def count_even_numbers(numbers):\n",
        "    count = 0\n",
        "    for num in numbers:\n",
        "        if num % 2 == 0:\n",
        "            count += 1\n",
        "    return count\n",
        "\n",
        "assert count_even_numbers([1, 2, 3, 4, 5, 6]) == 3\n",
        "assert count_even_numbers([1, 3, 5, 7]) == 0\n",
        "assert count_even_numbers([-2, 2, -10, 8]) == 4"
      ],
      "execution_count": 0,
      "outputs": []
    },
    {
      "cell_type": "markdown",
      "metadata": {
        "id": "6Lpyq-ugySJO",
        "colab_type": "text"
      },
      "source": [
        "Create a function `average_length_of_words` which takes a string as an argument and returns the average length of the words in the string. You can assume that there is a single space between each word and that the input does not have punctuation. The result should be rounded to one decimal place (hint: see [round](https://docs.python.org/3/library/functions.html#round))."
      ]
    },
    {
      "cell_type": "code",
      "metadata": {
        "id": "3Ar-8QEayQnr",
        "colab_type": "code",
        "colab": {}
      },
      "source": [
        "# Your implementation\n",
        "def average_length_of_words(s):\n",
        "  words = s.split(' ')\n",
        "  num_words = len(words)\n",
        "  sum_of_word_lengths = 0\n",
        "  for word in words:\n",
        "    sum_of_word_lengths += len(word)\n",
        "\n",
        "  return round(sum_of_word_lengths/num_words, 1)\n",
        "\n",
        "assert average_length_of_words('only four lett erwo rdss') == 4\n",
        "assert average_length_of_words('one two three') == 3.7\n",
        "assert average_length_of_words('one two three four') == 3.8\n",
        "assert average_length_of_words('') == 0"
      ],
      "execution_count": 0,
      "outputs": []
    },
    {
      "cell_type": "markdown",
      "metadata": {
        "id": "fjeFnBIj0B5s",
        "colab_type": "text"
      },
      "source": [
        "Write a Python function which iterates the integers from 0 to n (inclusive). For multiples of three print \"Fizz\" instead of the number and for the multiples of five print \"Buzz\". For numbers which are multiples of both three and five print \"FizzBuzz\".\n",
        "\n",
        "```\n",
        "fizzbuzz\n",
        "1\n",
        "2\n",
        "fizz\n",
        "4\n",
        "buzz\n",
        "fizz\n",
        "7\n",
        "8\n",
        "fizz\n",
        "buzz\n",
        "11\n",
        "fizz\n",
        "13\n",
        "14\n",
        "fizzbuzz\n",
        "```"
      ]
    },
    {
      "cell_type": "code",
      "metadata": {
        "id": "DhDEr13Wz86o",
        "colab_type": "code",
        "colab": {}
      },
      "source": [
        "def fizzbuzz(n):\n",
        "  for i in range(n+1):\n",
        "    printed = False\n",
        "    if i%3 == 0:\n",
        "      print('fizz', end='')\n",
        "      printed = True\n",
        "    if i%5 == 0:\n",
        "      print('buzz', end='')\n",
        "      printed = True\n",
        "\n",
        "    if not printed:\n",
        "      print(i)\n",
        "    else:\n",
        "      print() # Print newline\n",
        "fizzbuzz(15)    "
      ],
      "execution_count": 0,
      "outputs": []
    },
    {
      "cell_type": "markdown",
      "metadata": {
        "id": "H2rUXzUk1Dp3",
        "colab_type": "text"
      },
      "source": [
        "Given an array of integers, return indices of the two numbers such that they add up to a specific target.\n",
        "```\n",
        "Given nums = [2, 7, 11, 15], target = 9,\n",
        "\n",
        "Because nums[0] + nums[1] = 2 + 7 = 9,\n",
        "return [0, 1].\n",
        "```"
      ]
    },
    {
      "cell_type": "code",
      "metadata": {
        "id": "5qg9UavS1BB7",
        "colab_type": "code",
        "colab": {}
      },
      "source": [
        "def twoSum(nums, target):\n",
        "  for i in range(len(nums)):\n",
        "    for j in range(len(nums)):\n",
        "      if i == j:\n",
        "        continue\n",
        "      if nums[i] + nums[j] == target:\n",
        "        return [i,j]\n",
        "\n",
        "assert twoSum([2,7,11,15], 9) == [0,1]"
      ],
      "execution_count": 0,
      "outputs": []
    }
  ]
}